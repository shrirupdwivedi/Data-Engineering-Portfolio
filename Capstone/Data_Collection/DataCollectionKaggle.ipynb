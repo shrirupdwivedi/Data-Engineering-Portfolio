{
 "cells": [
  {
   "cell_type": "code",
   "execution_count": 1,
   "id": "a6ce3684",
   "metadata": {},
   "outputs": [
    {
     "name": "stdout",
     "output_type": "stream",
     "text": [
      "Requirement already satisfied: kaggle in /Users/shrirupdwivedi/opt/anaconda3/lib/python3.9/site-packages (1.5.12)\n",
      "Requirement already satisfied: tqdm in /Users/shrirupdwivedi/opt/anaconda3/lib/python3.9/site-packages (from kaggle) (4.62.3)\n",
      "Requirement already satisfied: requests in /Users/shrirupdwivedi/opt/anaconda3/lib/python3.9/site-packages (from kaggle) (2.26.0)\n",
      "Requirement already satisfied: certifi in /Users/shrirupdwivedi/opt/anaconda3/lib/python3.9/site-packages (from kaggle) (2021.10.8)\n",
      "Requirement already satisfied: six>=1.10 in /Users/shrirupdwivedi/opt/anaconda3/lib/python3.9/site-packages (from kaggle) (1.16.0)\n",
      "Requirement already satisfied: urllib3 in /Users/shrirupdwivedi/opt/anaconda3/lib/python3.9/site-packages (from kaggle) (1.26.7)\n",
      "Requirement already satisfied: python-dateutil in /Users/shrirupdwivedi/opt/anaconda3/lib/python3.9/site-packages (from kaggle) (2.8.2)\n",
      "Requirement already satisfied: python-slugify in /Users/shrirupdwivedi/opt/anaconda3/lib/python3.9/site-packages (from kaggle) (5.0.2)\n",
      "Requirement already satisfied: text-unidecode>=1.3 in /Users/shrirupdwivedi/opt/anaconda3/lib/python3.9/site-packages (from python-slugify->kaggle) (1.3)\n",
      "Requirement already satisfied: charset-normalizer~=2.0.0 in /Users/shrirupdwivedi/opt/anaconda3/lib/python3.9/site-packages (from requests->kaggle) (2.0.4)\n",
      "Requirement already satisfied: idna<4,>=2.5 in /Users/shrirupdwivedi/opt/anaconda3/lib/python3.9/site-packages (from requests->kaggle) (3.2)\n"
     ]
    }
   ],
   "source": [
    "!pip install kaggle"
   ]
  },
  {
   "cell_type": "code",
   "execution_count": 2,
   "id": "7aa12920",
   "metadata": {},
   "outputs": [
    {
     "name": "stdout",
     "output_type": "stream",
     "text": [
      "Traceback (most recent call last):\r\n",
      "  File \"/Users/shrirupdwivedi/opt/anaconda3/bin/kaggle\", line 5, in <module>\r\n",
      "    from kaggle.cli import main\r\n",
      "  File \"/Users/shrirupdwivedi/opt/anaconda3/lib/python3.9/site-packages/kaggle/__init__.py\", line 23, in <module>\r\n",
      "    api.authenticate()\r\n",
      "  File \"/Users/shrirupdwivedi/opt/anaconda3/lib/python3.9/site-packages/kaggle/api/kaggle_api_extended.py\", line 164, in authenticate\r\n",
      "    raise IOError('Could not find {}. Make sure it\\'s located in'\r\n",
      "OSError: Could not find kaggle.json. Make sure it's located in /Users/shrirupdwivedi/.kaggle. Or use the environment method.\r\n"
     ]
    }
   ],
   "source": [
    "!kaggle --Version\n"
   ]
  },
  {
   "cell_type": "code",
   "execution_count": 5,
   "id": "9ab6cdf9",
   "metadata": {},
   "outputs": [
    {
     "name": "stdout",
     "output_type": "stream",
     "text": [
      "Traceback (most recent call last):\r\n",
      "  File \"/Users/shrirupdwivedi/opt/anaconda3/bin/kaggle\", line 5, in <module>\r\n",
      "    from kaggle.cli import main\r\n",
      "  File \"/Users/shrirupdwivedi/opt/anaconda3/lib/python3.9/site-packages/kaggle/__init__.py\", line 23, in <module>\r\n",
      "    api.authenticate()\r\n",
      "  File \"/Users/shrirupdwivedi/opt/anaconda3/lib/python3.9/site-packages/kaggle/api/kaggle_api_extended.py\", line 164, in authenticate\r\n",
      "    raise IOError('Could not find {}. Make sure it\\'s located in'\r\n",
      "OSError: Could not find kaggle.json. Make sure it's located in /Users/shrirupdwivedi/.kaggle. Or use the environment method.\r\n"
     ]
    }
   ],
   "source": [
    "!kaggle --Version"
   ]
  },
  {
   "cell_type": "code",
   "execution_count": 6,
   "id": "41ad990c",
   "metadata": {},
   "outputs": [
    {
     "name": "stdout",
     "output_type": "stream",
     "text": [
      "Traceback (most recent call last):\n",
      "  File \"/Users/shrirupdwivedi/opt/anaconda3/bin/kaggle\", line 5, in <module>\n",
      "    from kaggle.cli import main\n",
      "  File \"/Users/shrirupdwivedi/opt/anaconda3/lib/python3.9/site-packages/kaggle/__init__.py\", line 23, in <module>\n",
      "    api.authenticate()\n",
      "  File \"/Users/shrirupdwivedi/opt/anaconda3/lib/python3.9/site-packages/kaggle/api/kaggle_api_extended.py\", line 164, in authenticate\n",
      "    raise IOError('Could not find {}. Make sure it\\'s located in'\n",
      "OSError: Could not find kaggle.json. Make sure it's located in /Users/shrirupdwivedi/.kaggle. Or use the environment method.\n"
     ]
    }
   ],
   "source": [
    "!kaggle --help\n"
   ]
  },
  {
   "cell_type": "code",
   "execution_count": 7,
   "id": "1ac6da4f",
   "metadata": {},
   "outputs": [
    {
     "name": "stdout",
     "output_type": "stream",
     "text": [
      "Requirement already satisfied: opendatasets in /Users/shrirupdwivedi/opt/anaconda3/lib/python3.9/site-packages (0.1.22)\n",
      "Requirement already satisfied: click in /Users/shrirupdwivedi/opt/anaconda3/lib/python3.9/site-packages (from opendatasets) (8.0.3)\n",
      "Requirement already satisfied: tqdm in /Users/shrirupdwivedi/opt/anaconda3/lib/python3.9/site-packages (from opendatasets) (4.62.3)\n",
      "Requirement already satisfied: kaggle in /Users/shrirupdwivedi/opt/anaconda3/lib/python3.9/site-packages (from opendatasets) (1.5.12)\n",
      "Requirement already satisfied: urllib3 in /Users/shrirupdwivedi/opt/anaconda3/lib/python3.9/site-packages (from kaggle->opendatasets) (1.26.7)\n",
      "Requirement already satisfied: six>=1.10 in /Users/shrirupdwivedi/opt/anaconda3/lib/python3.9/site-packages (from kaggle->opendatasets) (1.16.0)\n",
      "Requirement already satisfied: python-slugify in /Users/shrirupdwivedi/opt/anaconda3/lib/python3.9/site-packages (from kaggle->opendatasets) (5.0.2)\n",
      "Requirement already satisfied: python-dateutil in /Users/shrirupdwivedi/opt/anaconda3/lib/python3.9/site-packages (from kaggle->opendatasets) (2.8.2)\n",
      "Requirement already satisfied: requests in /Users/shrirupdwivedi/opt/anaconda3/lib/python3.9/site-packages (from kaggle->opendatasets) (2.26.0)\n",
      "Requirement already satisfied: certifi in /Users/shrirupdwivedi/opt/anaconda3/lib/python3.9/site-packages (from kaggle->opendatasets) (2021.10.8)\n",
      "Requirement already satisfied: text-unidecode>=1.3 in /Users/shrirupdwivedi/opt/anaconda3/lib/python3.9/site-packages (from python-slugify->kaggle->opendatasets) (1.3)\n",
      "Requirement already satisfied: charset-normalizer~=2.0.0 in /Users/shrirupdwivedi/opt/anaconda3/lib/python3.9/site-packages (from requests->kaggle->opendatasets) (2.0.4)\n",
      "Requirement already satisfied: idna<4,>=2.5 in /Users/shrirupdwivedi/opt/anaconda3/lib/python3.9/site-packages (from requests->kaggle->opendatasets) (3.2)\n",
      "Note: you may need to restart the kernel to use updated packages.\n"
     ]
    }
   ],
   "source": [
    "pip install opendatasets"
   ]
  },
  {
   "cell_type": "code",
   "execution_count": null,
   "id": "b3e07307",
   "metadata": {},
   "outputs": [],
   "source": [
    "import opendatasets as od\n",
    "dataset_url = 'https://www.kaggle.com/datasets/mkechinov/ecommerce-behavior-data-from-multi-category-store?select=2019-Nov.csv'\n",
    "od.download(dataset_url,force=True)"
   ]
  },
  {
   "cell_type": "code",
   "execution_count": null,
   "id": "a88ed89c",
   "metadata": {},
   "outputs": [],
   "source": [
    "dataset_url1 = 'https://www.kaggle.com/datasets/mkechinov/ecommerce-events-history-in-cosmetics-shop?select=2019-Nov.csv'\n",
    "od.download(dataset_url1,force=True)"
   ]
  }
 ],
 "metadata": {
  "kernelspec": {
   "display_name": "Python 3 (ipykernel)",
   "language": "python",
   "name": "python3"
  },
  "language_info": {
   "codemirror_mode": {
    "name": "ipython",
    "version": 3
   },
   "file_extension": ".py",
   "mimetype": "text/x-python",
   "name": "python",
   "nbconvert_exporter": "python",
   "pygments_lexer": "ipython3",
   "version": "3.9.7"
  }
 },
 "nbformat": 4,
 "nbformat_minor": 5
}
