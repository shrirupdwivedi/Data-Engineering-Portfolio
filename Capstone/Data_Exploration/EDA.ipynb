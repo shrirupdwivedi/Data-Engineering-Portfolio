{
 "cells": [
  {
   "cell_type": "markdown",
   "id": "2f1b10d5",
   "metadata": {},
   "source": [
    "## 2019 November Cosmetic Store Dataset"
   ]
  },
  {
   "cell_type": "code",
   "execution_count": 2,
   "id": "9a57a27b",
   "metadata": {},
   "outputs": [],
   "source": [
    "import pandas as pd\n",
    "import seaborn as sns"
   ]
  },
  {
   "cell_type": "code",
   "execution_count": 6,
   "id": "bbd62a13",
   "metadata": {},
   "outputs": [],
   "source": [
    "df_cos = pd.read_csv('/Volumes/Sadhguru/2019-Nov_cosmetic.csv')"
   ]
  },
  {
   "cell_type": "code",
   "execution_count": 7,
   "id": "45f3a29b",
   "metadata": {},
   "outputs": [
    {
     "data": {
      "text/html": [
       "<div>\n",
       "<style scoped>\n",
       "    .dataframe tbody tr th:only-of-type {\n",
       "        vertical-align: middle;\n",
       "    }\n",
       "\n",
       "    .dataframe tbody tr th {\n",
       "        vertical-align: top;\n",
       "    }\n",
       "\n",
       "    .dataframe thead th {\n",
       "        text-align: right;\n",
       "    }\n",
       "</style>\n",
       "<table border=\"1\" class=\"dataframe\">\n",
       "  <thead>\n",
       "    <tr style=\"text-align: right;\">\n",
       "      <th></th>\n",
       "      <th>event_time</th>\n",
       "      <th>event_type</th>\n",
       "      <th>product_id</th>\n",
       "      <th>category_id</th>\n",
       "      <th>category_code</th>\n",
       "      <th>brand</th>\n",
       "      <th>price</th>\n",
       "      <th>user_id</th>\n",
       "      <th>user_session</th>\n",
       "    </tr>\n",
       "  </thead>\n",
       "  <tbody>\n",
       "    <tr>\n",
       "      <th>0</th>\n",
       "      <td>2019-11-01 00:00:02 UTC</td>\n",
       "      <td>view</td>\n",
       "      <td>5802432</td>\n",
       "      <td>1487580009286598681</td>\n",
       "      <td>NaN</td>\n",
       "      <td>NaN</td>\n",
       "      <td>0.32</td>\n",
       "      <td>562076640</td>\n",
       "      <td>09fafd6c-6c99-46b1-834f-33527f4de241</td>\n",
       "    </tr>\n",
       "    <tr>\n",
       "      <th>1</th>\n",
       "      <td>2019-11-01 00:00:09 UTC</td>\n",
       "      <td>cart</td>\n",
       "      <td>5844397</td>\n",
       "      <td>1487580006317032337</td>\n",
       "      <td>NaN</td>\n",
       "      <td>NaN</td>\n",
       "      <td>2.38</td>\n",
       "      <td>553329724</td>\n",
       "      <td>2067216c-31b5-455d-a1cc-af0575a34ffb</td>\n",
       "    </tr>\n",
       "    <tr>\n",
       "      <th>2</th>\n",
       "      <td>2019-11-01 00:00:10 UTC</td>\n",
       "      <td>view</td>\n",
       "      <td>5837166</td>\n",
       "      <td>1783999064103190764</td>\n",
       "      <td>NaN</td>\n",
       "      <td>pnb</td>\n",
       "      <td>22.22</td>\n",
       "      <td>556138645</td>\n",
       "      <td>57ed222e-a54a-4907-9944-5a875c2d7f4f</td>\n",
       "    </tr>\n",
       "    <tr>\n",
       "      <th>3</th>\n",
       "      <td>2019-11-01 00:00:11 UTC</td>\n",
       "      <td>cart</td>\n",
       "      <td>5876812</td>\n",
       "      <td>1487580010100293687</td>\n",
       "      <td>NaN</td>\n",
       "      <td>jessnail</td>\n",
       "      <td>3.16</td>\n",
       "      <td>564506666</td>\n",
       "      <td>186c1951-8052-4b37-adce-dd9644b1d5f7</td>\n",
       "    </tr>\n",
       "    <tr>\n",
       "      <th>4</th>\n",
       "      <td>2019-11-01 00:00:24 UTC</td>\n",
       "      <td>remove_from_cart</td>\n",
       "      <td>5826182</td>\n",
       "      <td>1487580007483048900</td>\n",
       "      <td>NaN</td>\n",
       "      <td>NaN</td>\n",
       "      <td>3.33</td>\n",
       "      <td>553329724</td>\n",
       "      <td>2067216c-31b5-455d-a1cc-af0575a34ffb</td>\n",
       "    </tr>\n",
       "  </tbody>\n",
       "</table>\n",
       "</div>"
      ],
      "text/plain": [
       "                event_time        event_type  product_id          category_id  \\\n",
       "0  2019-11-01 00:00:02 UTC              view     5802432  1487580009286598681   \n",
       "1  2019-11-01 00:00:09 UTC              cart     5844397  1487580006317032337   \n",
       "2  2019-11-01 00:00:10 UTC              view     5837166  1783999064103190764   \n",
       "3  2019-11-01 00:00:11 UTC              cart     5876812  1487580010100293687   \n",
       "4  2019-11-01 00:00:24 UTC  remove_from_cart     5826182  1487580007483048900   \n",
       "\n",
       "  category_code     brand  price    user_id  \\\n",
       "0           NaN       NaN   0.32  562076640   \n",
       "1           NaN       NaN   2.38  553329724   \n",
       "2           NaN       pnb  22.22  556138645   \n",
       "3           NaN  jessnail   3.16  564506666   \n",
       "4           NaN       NaN   3.33  553329724   \n",
       "\n",
       "                           user_session  \n",
       "0  09fafd6c-6c99-46b1-834f-33527f4de241  \n",
       "1  2067216c-31b5-455d-a1cc-af0575a34ffb  \n",
       "2  57ed222e-a54a-4907-9944-5a875c2d7f4f  \n",
       "3  186c1951-8052-4b37-adce-dd9644b1d5f7  \n",
       "4  2067216c-31b5-455d-a1cc-af0575a34ffb  "
      ]
     },
     "execution_count": 7,
     "metadata": {},
     "output_type": "execute_result"
    }
   ],
   "source": [
    "df_cos.head() #can visually see different data values and columns in the start of file"
   ]
  },
  {
   "cell_type": "code",
   "execution_count": 8,
   "id": "19701516",
   "metadata": {},
   "outputs": [
    {
     "data": {
      "text/plain": [
       "(4635837, 9)"
      ]
     },
     "execution_count": 8,
     "metadata": {},
     "output_type": "execute_result"
    }
   ],
   "source": [
    "df_cos.shape #total dimension of the dataset"
   ]
  },
  {
   "cell_type": "code",
   "execution_count": 9,
   "id": "31f80e31",
   "metadata": {},
   "outputs": [
    {
     "name": "stdout",
     "output_type": "stream",
     "text": [
      "<class 'pandas.core.frame.DataFrame'>\n",
      "RangeIndex: 4635837 entries, 0 to 4635836\n",
      "Data columns (total 9 columns):\n",
      " #   Column         Dtype  \n",
      "---  ------         -----  \n",
      " 0   event_time     object \n",
      " 1   event_type     object \n",
      " 2   product_id     int64  \n",
      " 3   category_id    int64  \n",
      " 4   category_code  object \n",
      " 5   brand          object \n",
      " 6   price          float64\n",
      " 7   user_id        int64  \n",
      " 8   user_session   object \n",
      "dtypes: float64(1), int64(3), object(5)\n",
      "memory usage: 318.3+ MB\n"
     ]
    }
   ],
   "source": [
    "df_cos.info() #different data types of each columns"
   ]
  },
  {
   "cell_type": "code",
   "execution_count": 38,
   "id": "5e4619e4",
   "metadata": {},
   "outputs": [
    {
     "data": {
      "text/plain": [
       "count    4.635837e+06\n",
       "mean     8.120701e+00\n",
       "std      1.879197e+01\n",
       "min     -7.937000e+01\n",
       "25%      1.940000e+00\n",
       "50%      3.970000e+00\n",
       "75%      6.350000e+00\n",
       "max      3.277800e+02\n",
       "Name: price, dtype: float64"
      ]
     },
     "execution_count": 38,
     "metadata": {},
     "output_type": "execute_result"
    }
   ],
   "source": [
    "df_cos['price'].describe() #as the mean is not nearly the same as median, the data is skewed distributed"
   ]
  },
  {
   "cell_type": "code",
   "execution_count": 39,
   "id": "6c6b9a24",
   "metadata": {},
   "outputs": [
    {
     "data": {
      "text/plain": [
       "event_time       1810735\n",
       "event_type             4\n",
       "product_id         43419\n",
       "category_id          491\n",
       "category_code         10\n",
       "brand                239\n",
       "price               2538\n",
       "user_id           368232\n",
       "user_session      942022\n",
       "dtype: int64"
      ]
     },
     "execution_count": 39,
     "metadata": {},
     "output_type": "execute_result"
    }
   ],
   "source": [
    "df_cos.nunique() #unique values in all columns. number of\\\n",
    "#unique user sessions is higher than user id, implying on average a single user have more than one sessions"
   ]
  },
  {
   "cell_type": "code",
   "execution_count": 12,
   "id": "55fb1b88",
   "metadata": {},
   "outputs": [
    {
     "data": {
      "text/plain": [
       "527021202    11720\n",
       "550388516     4181\n",
       "500179293     3665\n",
       "552908674     3375\n",
       "467810091     2946\n",
       "             ...  \n",
       "571545314        1\n",
       "571545695        1\n",
       "571545691        1\n",
       "571545800        1\n",
       "579969854        1\n",
       "Name: user_id, Length: 368232, dtype: int64"
      ]
     },
     "execution_count": 12,
     "metadata": {},
     "output_type": "execute_result"
    }
   ],
   "source": [
    "df_cos['user_id'].value_counts() #unique values of user_id column. the user with user ID 527021202\\\n",
    "#has most number of activity"
   ]
  },
  {
   "cell_type": "code",
   "execution_count": 14,
   "id": "96893193",
   "metadata": {},
   "outputs": [
    {
     "data": {
      "text/plain": [
       "2649808"
      ]
     },
     "execution_count": 14,
     "metadata": {},
     "output_type": "execute_result"
    }
   ],
   "source": [
    "df_cos['brand'].count() # non-null values. Siginificant portion of values is null"
   ]
  },
  {
   "cell_type": "code",
   "execution_count": 15,
   "id": "19def53b",
   "metadata": {},
   "outputs": [
    {
     "data": {
      "text/plain": [
       "4635837"
      ]
     },
     "execution_count": 15,
     "metadata": {},
     "output_type": "execute_result"
    }
   ],
   "source": [
    "df_cos['brand'].size #all values (total rows)"
   ]
  },
  {
   "cell_type": "code",
   "execution_count": 16,
   "id": "5b8520c2",
   "metadata": {},
   "outputs": [],
   "source": [
    "c = df_cos.corr()"
   ]
  },
  {
   "cell_type": "code",
   "execution_count": 17,
   "id": "e58a4c25",
   "metadata": {},
   "outputs": [
    {
     "data": {
      "image/png": "[encoded data removed]",
      "text/plain": [
       "<Figure size 432x288 with 2 Axes>"
      ]
     },
     "metadata": {
      "needs_background": "light"
     },
     "output_type": "display_data"
    }
   ],
   "source": [
    "ax = sns.heatmap(c) #the data is not correlated"
   ]
  },
  {
   "cell_type": "code",
   "execution_count": 18,
   "id": "da562fe2",
   "metadata": {},
   "outputs": [
    {
     "data": {
      "text/plain": [
       "0          NaN\n",
       "1          NaN\n",
       "2          NaN\n",
       "3          NaN\n",
       "4          NaN\n",
       "          ... \n",
       "4635832    NaN\n",
       "4635833    NaN\n",
       "4635834    NaN\n",
       "4635835    NaN\n",
       "4635836    NaN\n",
       "Name: category_code, Length: 4635837, dtype: object"
      ]
     },
     "execution_count": 18,
     "metadata": {},
     "output_type": "execute_result"
    }
   ],
   "source": [
    "df_cos['category_code']"
   ]
  },
  {
   "cell_type": "code",
   "execution_count": 19,
   "id": "4211353f",
   "metadata": {},
   "outputs": [
    {
     "data": {
      "text/plain": [
       "4560089"
      ]
     },
     "execution_count": 19,
     "metadata": {},
     "output_type": "execute_result"
    }
   ],
   "source": [
    "df_cos['category_code'].isna().sum() #significant amount of null values"
   ]
  },
  {
   "cell_type": "code",
   "execution_count": 20,
   "id": "ce959bc6",
   "metadata": {},
   "outputs": [
    {
     "data": {
      "text/plain": [
       "1986029"
      ]
     },
     "execution_count": 20,
     "metadata": {},
     "output_type": "execute_result"
    }
   ],
   "source": [
    "df_cos['brand'].isna().sum() #significant amount of null values"
   ]
  },
  {
   "cell_type": "code",
   "execution_count": 21,
   "id": "dd354c26",
   "metadata": {},
   "outputs": [
    {
     "data": {
      "text/plain": [
       "0"
      ]
     },
     "execution_count": 21,
     "metadata": {},
     "output_type": "execute_result"
    }
   ],
   "source": [
    "df_cos['event_type'].isna().sum() #no null values for event type"
   ]
  },
  {
   "cell_type": "code",
   "execution_count": 42,
   "id": "7ec56dca",
   "metadata": {},
   "outputs": [
    {
     "data": {
      "text/plain": [
       "0"
      ]
     },
     "execution_count": 42,
     "metadata": {},
     "output_type": "execute_result"
    }
   ],
   "source": [
    "df_cos['event_time'].isna().sum() #no null values for event time"
   ]
  },
  {
   "cell_type": "code",
   "execution_count": 43,
   "id": "4eff17f9",
   "metadata": {
    "scrolled": true
   },
   "outputs": [
    {
     "data": {
      "text/plain": [
       "4635832    2019-11-30 23:59:46 UTC\n",
       "4635833    2019-11-30 23:59:47 UTC\n",
       "4635834    2019-11-30 23:59:47 UTC\n",
       "4635835    2019-11-30 23:59:57 UTC\n",
       "4635836    2019-11-30 23:59:58 UTC\n",
       "Name: event_time, dtype: object"
      ]
     },
     "execution_count": 43,
     "metadata": {},
     "output_type": "execute_result"
    }
   ],
   "source": [
    "df_cos['event_time'].tail() #data till 30th November 2019."
   ]
  },
  {
   "cell_type": "markdown",
   "id": "3f8be91a",
   "metadata": {},
   "source": [
    "### Insights from 2019 November Cosmetic Dataset\n",
    "\n",
    "1) There are two useful columns with significant null values: category_code and brand. <br />\n",
    "2) Can remove the product_id and category_id columns as there no no further information of the categories and products.<br />\n",
    "3) The data is skewed which could influence machine learning applications.<br />\n",
    "\n",
    "Similar data exploration technique will be applied in further datasets.\n"
   ]
  },
  {
   "cell_type": "markdown",
   "id": "59fe756c",
   "metadata": {},
   "source": [
    "## 2019 October Multicategory Store Dataset"
   ]
  },
  {
   "cell_type": "code",
   "execution_count": 22,
   "id": "050d0c0e",
   "metadata": {},
   "outputs": [],
   "source": [
    "df_octmult = pd.read_csv('/Volumes/Sadhguru/2019-Oct.csv',nrows=10000000) #total rows is 67501979. around 7 times more"
   ]
  },
  {
   "cell_type": "code",
   "execution_count": 23,
   "id": "6eafaf0b",
   "metadata": {},
   "outputs": [
    {
     "name": "stdout",
     "output_type": "stream",
     "text": [
      "<class 'pandas.core.frame.DataFrame'>\n",
      "RangeIndex: 10000000 entries, 0 to 9999999\n",
      "Data columns (total 9 columns):\n",
      " #   Column         Dtype  \n",
      "---  ------         -----  \n",
      " 0   event_time     object \n",
      " 1   event_type     object \n",
      " 2   product_id     int64  \n",
      " 3   category_id    int64  \n",
      " 4   category_code  object \n",
      " 5   brand          object \n",
      " 6   price          float64\n",
      " 7   user_id        int64  \n",
      " 8   user_session   object \n",
      "dtypes: float64(1), int64(3), object(5)\n",
      "memory usage: 686.6+ MB\n"
     ]
    }
   ],
   "source": [
    "df_octmult.info()"
   ]
  },
  {
   "cell_type": "code",
   "execution_count": 24,
   "id": "c27c06fa",
   "metadata": {},
   "outputs": [
    {
     "data": {
      "text/html": [
       "<div>\n",
       "<style scoped>\n",
       "    .dataframe tbody tr th:only-of-type {\n",
       "        vertical-align: middle;\n",
       "    }\n",
       "\n",
       "    .dataframe tbody tr th {\n",
       "        vertical-align: top;\n",
       "    }\n",
       "\n",
       "    .dataframe thead th {\n",
       "        text-align: right;\n",
       "    }\n",
       "</style>\n",
       "<table border=\"1\" class=\"dataframe\">\n",
       "  <thead>\n",
       "    <tr style=\"text-align: right;\">\n",
       "      <th></th>\n",
       "      <th>event_time</th>\n",
       "      <th>event_type</th>\n",
       "      <th>product_id</th>\n",
       "      <th>category_id</th>\n",
       "      <th>category_code</th>\n",
       "      <th>brand</th>\n",
       "      <th>price</th>\n",
       "      <th>user_id</th>\n",
       "      <th>user_session</th>\n",
       "    </tr>\n",
       "  </thead>\n",
       "  <tbody>\n",
       "    <tr>\n",
       "      <th>0</th>\n",
       "      <td>2019-10-01 00:00:00 UTC</td>\n",
       "      <td>view</td>\n",
       "      <td>44600062</td>\n",
       "      <td>2103807459595387724</td>\n",
       "      <td>NaN</td>\n",
       "      <td>shiseido</td>\n",
       "      <td>35.79</td>\n",
       "      <td>541312140</td>\n",
       "      <td>72d76fde-8bb3-4e00-8c23-a032dfed738c</td>\n",
       "    </tr>\n",
       "    <tr>\n",
       "      <th>1</th>\n",
       "      <td>2019-10-01 00:00:00 UTC</td>\n",
       "      <td>view</td>\n",
       "      <td>3900821</td>\n",
       "      <td>2053013552326770905</td>\n",
       "      <td>appliances.environment.water_heater</td>\n",
       "      <td>aqua</td>\n",
       "      <td>33.20</td>\n",
       "      <td>554748717</td>\n",
       "      <td>9333dfbd-b87a-4708-9857-6336556b0fcc</td>\n",
       "    </tr>\n",
       "    <tr>\n",
       "      <th>2</th>\n",
       "      <td>2019-10-01 00:00:01 UTC</td>\n",
       "      <td>view</td>\n",
       "      <td>17200506</td>\n",
       "      <td>2053013559792632471</td>\n",
       "      <td>furniture.living_room.sofa</td>\n",
       "      <td>NaN</td>\n",
       "      <td>543.10</td>\n",
       "      <td>519107250</td>\n",
       "      <td>566511c2-e2e3-422b-b695-cf8e6e792ca8</td>\n",
       "    </tr>\n",
       "    <tr>\n",
       "      <th>3</th>\n",
       "      <td>2019-10-01 00:00:01 UTC</td>\n",
       "      <td>view</td>\n",
       "      <td>1307067</td>\n",
       "      <td>2053013558920217191</td>\n",
       "      <td>computers.notebook</td>\n",
       "      <td>lenovo</td>\n",
       "      <td>251.74</td>\n",
       "      <td>550050854</td>\n",
       "      <td>7c90fc70-0e80-4590-96f3-13c02c18c713</td>\n",
       "    </tr>\n",
       "    <tr>\n",
       "      <th>4</th>\n",
       "      <td>2019-10-01 00:00:04 UTC</td>\n",
       "      <td>view</td>\n",
       "      <td>1004237</td>\n",
       "      <td>2053013555631882655</td>\n",
       "      <td>electronics.smartphone</td>\n",
       "      <td>apple</td>\n",
       "      <td>1081.98</td>\n",
       "      <td>535871217</td>\n",
       "      <td>c6bd7419-2748-4c56-95b4-8cec9ff8b80d</td>\n",
       "    </tr>\n",
       "  </tbody>\n",
       "</table>\n",
       "</div>"
      ],
      "text/plain": [
       "                event_time event_type  product_id          category_id  \\\n",
       "0  2019-10-01 00:00:00 UTC       view    44600062  2103807459595387724   \n",
       "1  2019-10-01 00:00:00 UTC       view     3900821  2053013552326770905   \n",
       "2  2019-10-01 00:00:01 UTC       view    17200506  2053013559792632471   \n",
       "3  2019-10-01 00:00:01 UTC       view     1307067  2053013558920217191   \n",
       "4  2019-10-01 00:00:04 UTC       view     1004237  2053013555631882655   \n",
       "\n",
       "                         category_code     brand    price    user_id  \\\n",
       "0                                  NaN  shiseido    35.79  541312140   \n",
       "1  appliances.environment.water_heater      aqua    33.20  554748717   \n",
       "2           furniture.living_room.sofa       NaN   543.10  519107250   \n",
       "3                   computers.notebook    lenovo   251.74  550050854   \n",
       "4               electronics.smartphone     apple  1081.98  535871217   \n",
       "\n",
       "                           user_session  \n",
       "0  72d76fde-8bb3-4e00-8c23-a032dfed738c  \n",
       "1  9333dfbd-b87a-4708-9857-6336556b0fcc  \n",
       "2  566511c2-e2e3-422b-b695-cf8e6e792ca8  \n",
       "3  7c90fc70-0e80-4590-96f3-13c02c18c713  \n",
       "4  c6bd7419-2748-4c56-95b4-8cec9ff8b80d  "
      ]
     },
     "execution_count": 24,
     "metadata": {},
     "output_type": "execute_result"
    }
   ],
   "source": [
    "df_octmult.head()"
   ]
  },
  {
   "cell_type": "code",
   "execution_count": 44,
   "id": "1c5a9008",
   "metadata": {},
   "outputs": [
    {
     "data": {
      "text/plain": [
       "count    1.000000e+07\n",
       "mean     2.960614e+02\n",
       "std      3.669101e+02\n",
       "min      0.000000e+00\n",
       "25%      6.525000e+01\n",
       "50%      1.619100e+02\n",
       "75%      3.618200e+02\n",
       "max      2.574070e+03\n",
       "Name: price, dtype: float64"
      ]
     },
     "execution_count": 44,
     "metadata": {},
     "output_type": "execute_result"
    }
   ],
   "source": [
    "df_octmult['price'].describe()"
   ]
  },
  {
   "cell_type": "code",
   "execution_count": 26,
   "id": "f48a1822",
   "metadata": {},
   "outputs": [
    {
     "data": {
      "text/plain": [
       "event_time        648713\n",
       "event_type             3\n",
       "product_id        121903\n",
       "category_id          566\n",
       "category_code        123\n",
       "brand               2671\n",
       "price              36122\n",
       "user_id          1070614\n",
       "user_session     2148765\n",
       "dtype: int64"
      ]
     },
     "execution_count": 26,
     "metadata": {},
     "output_type": "execute_result"
    }
   ],
   "source": [
    "df_octmult.nunique()"
   ]
  },
  {
   "cell_type": "code",
   "execution_count": 27,
   "id": "9824088c",
   "metadata": {},
   "outputs": [
    {
     "data": {
      "text/plain": [
       "512475445    1646\n",
       "513605798    1212\n",
       "516948072    1165\n",
       "512365995    1006\n",
       "513068111     950\n",
       "             ... \n",
       "534328169       1\n",
       "547460132       1\n",
       "514914964       1\n",
       "556921174       1\n",
       "520417137       1\n",
       "Name: user_id, Length: 1070614, dtype: int64"
      ]
     },
     "execution_count": 27,
     "metadata": {},
     "output_type": "execute_result"
    }
   ],
   "source": [
    "df_octmult['user_id'].value_counts()"
   ]
  },
  {
   "cell_type": "code",
   "execution_count": 28,
   "id": "6db37295",
   "metadata": {},
   "outputs": [
    {
     "data": {
      "text/plain": [
       "1388005"
      ]
     },
     "execution_count": 28,
     "metadata": {},
     "output_type": "execute_result"
    }
   ],
   "source": [
    "df_octmult['brand'].isna().sum()"
   ]
  },
  {
   "cell_type": "code",
   "execution_count": 29,
   "id": "fa661dc5",
   "metadata": {},
   "outputs": [
    {
     "data": {
      "text/plain": [
       "3224119"
      ]
     },
     "execution_count": 29,
     "metadata": {},
     "output_type": "execute_result"
    }
   ],
   "source": [
    "df_octmult['category_code'].isna().sum()"
   ]
  },
  {
   "cell_type": "markdown",
   "id": "ee4b1767",
   "metadata": {},
   "source": [
    "### Insights from 2019 October Multicategory Store Dataset\n",
    "\n",
    "1) There are two useful columns with significant null values: category_code and brand. <br />\n",
    "2) Can remove the product_id and category_id columns as there no no further information of the categories and products.<br />\n",
    "3) The data is comparitvely less skewed than the previous dataset.<br />\n",
    "4) There are significant number of more data in this dataset. Therefore, only first 10000000 rows are used.\n",
    "\n",
    "\n"
   ]
  },
  {
   "cell_type": "markdown",
   "id": "74d96edc",
   "metadata": {},
   "source": [
    "## 2020 April Multicategory Store Dataset"
   ]
  },
  {
   "cell_type": "code",
   "execution_count": 30,
   "id": "a0ae3dde",
   "metadata": {},
   "outputs": [],
   "source": [
    "df_aprmult = pd.read_csv('/Volumes/Sadhguru/2020-Apr.csv',nrows=10000000) "
   ]
  },
  {
   "cell_type": "code",
   "execution_count": 31,
   "id": "55033a17",
   "metadata": {},
   "outputs": [
    {
     "name": "stdout",
     "output_type": "stream",
     "text": [
      "<class 'pandas.core.frame.DataFrame'>\n",
      "RangeIndex: 10000000 entries, 0 to 9999999\n",
      "Data columns (total 9 columns):\n",
      " #   Column         Dtype  \n",
      "---  ------         -----  \n",
      " 0   event_time     object \n",
      " 1   event_type     object \n",
      " 2   product_id     int64  \n",
      " 3   category_id    int64  \n",
      " 4   category_code  object \n",
      " 5   brand          object \n",
      " 6   price          float64\n",
      " 7   user_id        int64  \n",
      " 8   user_session   object \n",
      "dtypes: float64(1), int64(3), object(5)\n",
      "memory usage: 686.6+ MB\n"
     ]
    }
   ],
   "source": [
    "df_aprmult.info()"
   ]
  },
  {
   "cell_type": "code",
   "execution_count": 32,
   "id": "7868e3b4",
   "metadata": {},
   "outputs": [
    {
     "data": {
      "text/html": [
       "<div>\n",
       "<style scoped>\n",
       "    .dataframe tbody tr th:only-of-type {\n",
       "        vertical-align: middle;\n",
       "    }\n",
       "\n",
       "    .dataframe tbody tr th {\n",
       "        vertical-align: top;\n",
       "    }\n",
       "\n",
       "    .dataframe thead th {\n",
       "        text-align: right;\n",
       "    }\n",
       "</style>\n",
       "<table border=\"1\" class=\"dataframe\">\n",
       "  <thead>\n",
       "    <tr style=\"text-align: right;\">\n",
       "      <th></th>\n",
       "      <th>event_time</th>\n",
       "      <th>event_type</th>\n",
       "      <th>product_id</th>\n",
       "      <th>category_id</th>\n",
       "      <th>category_code</th>\n",
       "      <th>brand</th>\n",
       "      <th>price</th>\n",
       "      <th>user_id</th>\n",
       "      <th>user_session</th>\n",
       "    </tr>\n",
       "  </thead>\n",
       "  <tbody>\n",
       "    <tr>\n",
       "      <th>0</th>\n",
       "      <td>2020-04-01 00:00:00 UTC</td>\n",
       "      <td>view</td>\n",
       "      <td>1201465</td>\n",
       "      <td>2232732101407408685</td>\n",
       "      <td>apparel.shoes.slipons</td>\n",
       "      <td>samsung</td>\n",
       "      <td>230.38</td>\n",
       "      <td>568984877</td>\n",
       "      <td>e2456cef-2d4f-42b9-a53a-8893cb0c6851</td>\n",
       "    </tr>\n",
       "    <tr>\n",
       "      <th>1</th>\n",
       "      <td>2020-04-01 00:00:01 UTC</td>\n",
       "      <td>view</td>\n",
       "      <td>1307156</td>\n",
       "      <td>2053013554658804075</td>\n",
       "      <td>electronics.audio.headphone</td>\n",
       "      <td>apple</td>\n",
       "      <td>1352.67</td>\n",
       "      <td>514955500</td>\n",
       "      <td>38f43134-de83-4710-ae0a-326677d292c6</td>\n",
       "    </tr>\n",
       "    <tr>\n",
       "      <th>2</th>\n",
       "      <td>2020-04-01 00:00:01 UTC</td>\n",
       "      <td>view</td>\n",
       "      <td>1480477</td>\n",
       "      <td>2053013563835941749</td>\n",
       "      <td>appliances.kitchen.refrigerators</td>\n",
       "      <td>apple</td>\n",
       "      <td>1184.05</td>\n",
       "      <td>633645770</td>\n",
       "      <td>16aba270-b3c2-4b23-be0a-b7c80bc9da9e</td>\n",
       "    </tr>\n",
       "    <tr>\n",
       "      <th>3</th>\n",
       "      <td>2020-04-01 00:00:02 UTC</td>\n",
       "      <td>view</td>\n",
       "      <td>1307050</td>\n",
       "      <td>2053013554658804075</td>\n",
       "      <td>electronics.audio.headphone</td>\n",
       "      <td>apple</td>\n",
       "      <td>1724.34</td>\n",
       "      <td>564933778</td>\n",
       "      <td>05b443bd-e68a-4d72-b971-80bd31109cb8</td>\n",
       "    </tr>\n",
       "    <tr>\n",
       "      <th>4</th>\n",
       "      <td>2020-04-01 00:00:03 UTC</td>\n",
       "      <td>view</td>\n",
       "      <td>9500109</td>\n",
       "      <td>2232732104175649385</td>\n",
       "      <td>apparel.scarf</td>\n",
       "      <td>defender</td>\n",
       "      <td>25.05</td>\n",
       "      <td>530206135</td>\n",
       "      <td>e3c1fb4b-0a7e-457d-a0cf-5d1479e9aafc</td>\n",
       "    </tr>\n",
       "  </tbody>\n",
       "</table>\n",
       "</div>"
      ],
      "text/plain": [
       "                event_time event_type  product_id          category_id  \\\n",
       "0  2020-04-01 00:00:00 UTC       view     1201465  2232732101407408685   \n",
       "1  2020-04-01 00:00:01 UTC       view     1307156  2053013554658804075   \n",
       "2  2020-04-01 00:00:01 UTC       view     1480477  2053013563835941749   \n",
       "3  2020-04-01 00:00:02 UTC       view     1307050  2053013554658804075   \n",
       "4  2020-04-01 00:00:03 UTC       view     9500109  2232732104175649385   \n",
       "\n",
       "                      category_code     brand    price    user_id  \\\n",
       "0             apparel.shoes.slipons   samsung   230.38  568984877   \n",
       "1       electronics.audio.headphone     apple  1352.67  514955500   \n",
       "2  appliances.kitchen.refrigerators     apple  1184.05  633645770   \n",
       "3       electronics.audio.headphone     apple  1724.34  564933778   \n",
       "4                     apparel.scarf  defender    25.05  530206135   \n",
       "\n",
       "                           user_session  \n",
       "0  e2456cef-2d4f-42b9-a53a-8893cb0c6851  \n",
       "1  38f43134-de83-4710-ae0a-326677d292c6  \n",
       "2  16aba270-b3c2-4b23-be0a-b7c80bc9da9e  \n",
       "3  05b443bd-e68a-4d72-b971-80bd31109cb8  \n",
       "4  e3c1fb4b-0a7e-457d-a0cf-5d1479e9aafc  "
      ]
     },
     "execution_count": 32,
     "metadata": {},
     "output_type": "execute_result"
    }
   ],
   "source": [
    "df_aprmult.head()"
   ]
  },
  {
   "cell_type": "code",
   "execution_count": 45,
   "id": "5d710068",
   "metadata": {},
   "outputs": [
    {
     "data": {
      "text/plain": [
       "count    1.000000e+07\n",
       "mean     3.095589e+02\n",
       "std      3.776898e+02\n",
       "min      0.000000e+00\n",
       "25%      6.433000e+01\n",
       "50%      1.781200e+02\n",
       "75%      4.012700e+02\n",
       "max      2.574070e+03\n",
       "Name: price, dtype: float64"
      ]
     },
     "execution_count": 45,
     "metadata": {},
     "output_type": "execute_result"
    }
   ],
   "source": [
    "df_aprmult['price'].describe()"
   ]
  },
  {
   "cell_type": "code",
   "execution_count": 34,
   "id": "957c3f40",
   "metadata": {},
   "outputs": [
    {
     "data": {
      "text/plain": [
       "event_time        539696\n",
       "event_type             3\n",
       "product_id        160631\n",
       "category_id         1073\n",
       "category_code        137\n",
       "brand               3883\n",
       "price              32086\n",
       "user_id          1053859\n",
       "user_session     1757976\n",
       "dtype: int64"
      ]
     },
     "execution_count": 34,
     "metadata": {},
     "output_type": "execute_result"
    }
   ],
   "source": [
    "df_aprmult.nunique()"
   ]
  },
  {
   "cell_type": "code",
   "execution_count": 35,
   "id": "315efddb",
   "metadata": {},
   "outputs": [
    {
     "data": {
      "text/plain": [
       "597644399    15064\n",
       "619573377     2345\n",
       "618674364     2195\n",
       "550985043     2061\n",
       "635214021     1811\n",
       "             ...  \n",
       "594888943        1\n",
       "535532529        1\n",
       "636500013        1\n",
       "595247945        1\n",
       "637799467        1\n",
       "Name: user_id, Length: 1053859, dtype: int64"
      ]
     },
     "execution_count": 35,
     "metadata": {},
     "output_type": "execute_result"
    }
   ],
   "source": [
    "df_aprmult['user_id'].value_counts()"
   ]
  },
  {
   "cell_type": "code",
   "execution_count": 36,
   "id": "9f0961b0",
   "metadata": {},
   "outputs": [
    {
     "data": {
      "text/plain": [
       "1202864"
      ]
     },
     "execution_count": 36,
     "metadata": {},
     "output_type": "execute_result"
    }
   ],
   "source": [
    "df_aprmult['brand'].isna().sum()"
   ]
  },
  {
   "cell_type": "code",
   "execution_count": 37,
   "id": "d1c60cd5",
   "metadata": {},
   "outputs": [
    {
     "data": {
      "text/plain": [
       "952342"
      ]
     },
     "execution_count": 37,
     "metadata": {},
     "output_type": "execute_result"
    }
   ],
   "source": [
    "df_aprmult['category_code'].isna().sum()"
   ]
  },
  {
   "cell_type": "markdown",
   "id": "3491ec1f",
   "metadata": {},
   "source": [
    "### Insights from 2020 April Multicategory Store Dataset\n",
    "\n",
    "1) There are two useful columns with significant null values: category_code and brand. <br />\n",
    "2) Can remove the product_id and category_id columns as there no no further information of the categories and products.<br />\n",
    "3) The data is comparitvely more skewed than the previous dataset.<br />\n",
    "4) There are significant number of more data in this dataset. Therefore, only first 10000000 rows are used.<br />\n",
    "5) This dataset can be used in conjuction with 2019 Oct dataset for comparision purposed of 6-month difference in time. <br />\n",
    "6) The dataset is nearly same in structure as of 2019 Oct Multicategory dataset except more number of rows.\n",
    "\n",
    "\n",
    "\n"
   ]
  },
  {
   "cell_type": "code",
   "execution_count": null,
   "id": "53733fa3",
   "metadata": {},
   "outputs": [],
   "source": []
  }
 ],
 "metadata": {
  "kernelspec": {
   "display_name": "Python 3 (ipykernel)",
   "language": "python",
   "name": "python3"
  },
  "language_info": {
   "codemirror_mode": {
    "name": "ipython",
    "version": 3
   },
   "file_extension": ".py",
   "mimetype": "text/x-python",
   "name": "python",
   "nbconvert_exporter": "python",
   "pygments_lexer": "ipython3",
   "version": "3.9.7"
  }
 },
 "nbformat": 4,
 "nbformat_minor": 5
}
